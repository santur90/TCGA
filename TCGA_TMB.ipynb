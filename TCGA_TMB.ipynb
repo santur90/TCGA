{
 "cells": [
  {
   "cell_type": "code",
   "execution_count": 2,
   "metadata": {},
   "outputs": [],
   "source": [
    "rm(list = ls()) \n",
    "options(stringsAsFactors = F) "
   ]
  },
  {
   "cell_type": "code",
   "execution_count": 4,
   "metadata": {},
   "outputs": [
    {
     "data": {
      "text/html": [
       "<ol class=list-inline>\n",
       "\t<li>'Sample_ID'</li>\n",
       "\t<li>'gene'</li>\n",
       "\t<li>'chrom'</li>\n",
       "\t<li>'start'</li>\n",
       "\t<li>'end'</li>\n",
       "\t<li>'ref'</li>\n",
       "\t<li>'alt'</li>\n",
       "\t<li>'Amino_Acid_Change'</li>\n",
       "\t<li>'effect'</li>\n",
       "\t<li>'filter'</li>\n",
       "\t<li>'dna_vaf'</li>\n",
       "</ol>\n"
      ],
      "text/latex": [
       "\\begin{enumerate*}\n",
       "\\item 'Sample\\_ID'\n",
       "\\item 'gene'\n",
       "\\item 'chrom'\n",
       "\\item 'start'\n",
       "\\item 'end'\n",
       "\\item 'ref'\n",
       "\\item 'alt'\n",
       "\\item 'Amino\\_Acid\\_Change'\n",
       "\\item 'effect'\n",
       "\\item 'filter'\n",
       "\\item 'dna\\_vaf'\n",
       "\\end{enumerate*}\n"
      ],
      "text/markdown": [
       "1. 'Sample_ID'\n",
       "2. 'gene'\n",
       "3. 'chrom'\n",
       "4. 'start'\n",
       "5. 'end'\n",
       "6. 'ref'\n",
       "7. 'alt'\n",
       "8. 'Amino_Acid_Change'\n",
       "9. 'effect'\n",
       "10. 'filter'\n",
       "11. 'dna_vaf'\n",
       "\n",
       "\n"
      ],
      "text/plain": [
       " [1] \"Sample_ID\"         \"gene\"              \"chrom\"            \n",
       " [4] \"start\"             \"end\"               \"ref\"              \n",
       " [7] \"alt\"               \"Amino_Acid_Change\" \"effect\"           \n",
       "[10] \"filter\"            \"dna_vaf\"          "
      ]
     },
     "metadata": {},
     "output_type": "display_data"
    },
    {
     "data": {
      "text/html": [
       "<table>\n",
       "<thead><tr><th scope=col>Sample_ID</th><th scope=col>gene</th><th scope=col>chrom</th><th scope=col>start</th><th scope=col>end</th><th scope=col>ref</th><th scope=col>alt</th><th scope=col>Amino_Acid_Change</th><th scope=col>effect</th><th scope=col>filter</th><th scope=col>dna_vaf</th></tr></thead>\n",
       "<tbody>\n",
       "\t<tr><td>TCGA-D8-A1XY-01A  </td><td>USP24             </td><td>chr1              </td><td> 55159655         </td><td> 55159655         </td><td>T                 </td><td>C                 </td><td>p.I342V           </td><td>missense_variant  </td><td>panel_of_normals  </td><td>0.4024390         </td></tr>\n",
       "\t<tr><td>TCGA-D8-A1XY-01A  </td><td>ERICH3            </td><td>chr1              </td><td> 74571494         </td><td> 74571494         </td><td>C                 </td><td>T                 </td><td>p.E1406K          </td><td>missense_variant  </td><td>PASS              </td><td>0.5116279         </td></tr>\n",
       "\t<tr><td>TCGA-D8-A1XY-01A  </td><td>KIF26B            </td><td>chr1              </td><td>245419680         </td><td>245419680         </td><td>G                 </td><td>T                 </td><td>p.S367S           </td><td>synonymous_variant</td><td>PASS              </td><td>0.6588235         </td></tr>\n",
       "\t<tr><td>TCGA-D8-A1XY-01A  </td><td>USP34             </td><td>chr2              </td><td> 61189055         </td><td> 61189055         </td><td>G                 </td><td>C                 </td><td>p.L3296L          </td><td>synonymous_variant</td><td>PASS              </td><td>0.2348993         </td></tr>\n",
       "\t<tr><td>TCGA-D8-A1XY-01A  </td><td>ANTXR1            </td><td>chr2              </td><td> 69245305         </td><td> 69245305         </td><td>G                 </td><td>A                 </td><td>p.S505S           </td><td>synonymous_variant</td><td>PASS              </td><td>0.2395833         </td></tr>\n",
       "\t<tr><td>TCGA-D8-A1XY-01A  </td><td>SCN9A             </td><td>chr2              </td><td>166199365         </td><td>166199365         </td><td>G                 </td><td>A                 </td><td>p.V1758V          </td><td>synonymous_variant</td><td>PASS              </td><td>0.1866667         </td></tr>\n",
       "</tbody>\n",
       "</table>\n"
      ],
      "text/latex": [
       "\\begin{tabular}{r|lllllllllll}\n",
       " Sample\\_ID & gene & chrom & start & end & ref & alt & Amino\\_Acid\\_Change & effect & filter & dna\\_vaf\\\\\n",
       "\\hline\n",
       "\t TCGA-D8-A1XY-01A     & USP24                & chr1                 &  55159655            &  55159655            & T                    & C                    & p.I342V              & missense\\_variant   & panel\\_of\\_normals & 0.4024390           \\\\\n",
       "\t TCGA-D8-A1XY-01A     & ERICH3               & chr1                 &  74571494            &  74571494            & C                    & T                    & p.E1406K             & missense\\_variant   & PASS                 & 0.5116279           \\\\\n",
       "\t TCGA-D8-A1XY-01A     & KIF26B               & chr1                 & 245419680            & 245419680            & G                    & T                    & p.S367S              & synonymous\\_variant & PASS                 & 0.6588235           \\\\\n",
       "\t TCGA-D8-A1XY-01A     & USP34                & chr2                 &  61189055            &  61189055            & G                    & C                    & p.L3296L             & synonymous\\_variant & PASS                 & 0.2348993           \\\\\n",
       "\t TCGA-D8-A1XY-01A     & ANTXR1               & chr2                 &  69245305            &  69245305            & G                    & A                    & p.S505S              & synonymous\\_variant & PASS                 & 0.2395833           \\\\\n",
       "\t TCGA-D8-A1XY-01A     & SCN9A                & chr2                 & 166199365            & 166199365            & G                    & A                    & p.V1758V             & synonymous\\_variant & PASS                 & 0.1866667           \\\\\n",
       "\\end{tabular}\n"
      ],
      "text/markdown": [
       "\n",
       "| Sample_ID | gene | chrom | start | end | ref | alt | Amino_Acid_Change | effect | filter | dna_vaf |\n",
       "|---|---|---|---|---|---|---|---|---|---|---|\n",
       "| TCGA-D8-A1XY-01A   | USP24              | chr1               |  55159655          |  55159655          | T                  | C                  | p.I342V            | missense_variant   | panel_of_normals   | 0.4024390          |\n",
       "| TCGA-D8-A1XY-01A   | ERICH3             | chr1               |  74571494          |  74571494          | C                  | T                  | p.E1406K           | missense_variant   | PASS               | 0.5116279          |\n",
       "| TCGA-D8-A1XY-01A   | KIF26B             | chr1               | 245419680          | 245419680          | G                  | T                  | p.S367S            | synonymous_variant | PASS               | 0.6588235          |\n",
       "| TCGA-D8-A1XY-01A   | USP34              | chr2               |  61189055          |  61189055          | G                  | C                  | p.L3296L           | synonymous_variant | PASS               | 0.2348993          |\n",
       "| TCGA-D8-A1XY-01A   | ANTXR1             | chr2               |  69245305          |  69245305          | G                  | A                  | p.S505S            | synonymous_variant | PASS               | 0.2395833          |\n",
       "| TCGA-D8-A1XY-01A   | SCN9A              | chr2               | 166199365          | 166199365          | G                  | A                  | p.V1758V           | synonymous_variant | PASS               | 0.1866667          |\n",
       "\n"
      ],
      "text/plain": [
       "  Sample_ID        gene   chrom start     end       ref alt Amino_Acid_Change\n",
       "1 TCGA-D8-A1XY-01A USP24  chr1   55159655  55159655 T   C   p.I342V          \n",
       "2 TCGA-D8-A1XY-01A ERICH3 chr1   74571494  74571494 C   T   p.E1406K         \n",
       "3 TCGA-D8-A1XY-01A KIF26B chr1  245419680 245419680 G   T   p.S367S          \n",
       "4 TCGA-D8-A1XY-01A USP34  chr2   61189055  61189055 G   C   p.L3296L         \n",
       "5 TCGA-D8-A1XY-01A ANTXR1 chr2   69245305  69245305 G   A   p.S505S          \n",
       "6 TCGA-D8-A1XY-01A SCN9A  chr2  166199365 166199365 G   A   p.V1758V         \n",
       "  effect             filter           dna_vaf  \n",
       "1 missense_variant   panel_of_normals 0.4024390\n",
       "2 missense_variant   PASS             0.5116279\n",
       "3 synonymous_variant PASS             0.6588235\n",
       "4 synonymous_variant PASS             0.2348993\n",
       "5 synonymous_variant PASS             0.2395833\n",
       "6 synonymous_variant PASS             0.1866667"
      ]
     },
     "metadata": {},
     "output_type": "display_data"
    }
   ],
   "source": [
    "## UCSC xena source \n",
    "BRCA.mutect2 = read.table( 'TCGA-BRCA.mutect2_snv.tsv',sep = '\\t',header = T)\n",
    "colnames(BRCA.mutect2)\n",
    "#read.table()\n",
    "head(BRCA.mutect2)"
   ]
  },
  {
   "cell_type": "code",
   "execution_count": 5,
   "metadata": {},
   "outputs": [
    {
     "data": {
      "text/html": [
       "<table>\n",
       "<thead><tr><th scope=col>Sample_ID</th><th scope=col>gene</th><th scope=col>chrom</th><th scope=col>start</th><th scope=col>end</th><th scope=col>ref</th><th scope=col>alt</th><th scope=col>Amino_Acid_Change</th><th scope=col>effect</th><th scope=col>filter</th><th scope=col>dna_vaf</th><th scope=col>pos</th></tr></thead>\n",
       "<tbody>\n",
       "\t<tr><td>TCGA-D8-A1XY-01A        </td><td>USP24                   </td><td>chr1                    </td><td> 55159655               </td><td> 55159655               </td><td>T                       </td><td>C                       </td><td>p.I342V                 </td><td>missense_variant        </td><td>panel_of_normals        </td><td>0.4024390               </td><td>chr1:55159655-55159655  </td></tr>\n",
       "\t<tr><td>TCGA-D8-A1XY-01A        </td><td>ERICH3                  </td><td>chr1                    </td><td> 74571494               </td><td> 74571494               </td><td>C                       </td><td>T                       </td><td>p.E1406K                </td><td>missense_variant        </td><td>PASS                    </td><td>0.5116279               </td><td>chr1:74571494-74571494  </td></tr>\n",
       "\t<tr><td>TCGA-D8-A1XY-01A        </td><td>KIF26B                  </td><td>chr1                    </td><td>245419680               </td><td>245419680               </td><td>G                       </td><td>T                       </td><td>p.S367S                 </td><td>synonymous_variant      </td><td>PASS                    </td><td>0.6588235               </td><td>chr1:245419680-245419680</td></tr>\n",
       "\t<tr><td>TCGA-D8-A1XY-01A        </td><td>USP34                   </td><td>chr2                    </td><td> 61189055               </td><td> 61189055               </td><td>G                       </td><td>C                       </td><td>p.L3296L                </td><td>synonymous_variant      </td><td>PASS                    </td><td>0.2348993               </td><td>chr2:61189055-61189055  </td></tr>\n",
       "\t<tr><td>TCGA-D8-A1XY-01A        </td><td>ANTXR1                  </td><td>chr2                    </td><td> 69245305               </td><td> 69245305               </td><td>G                       </td><td>A                       </td><td>p.S505S                 </td><td>synonymous_variant      </td><td>PASS                    </td><td>0.2395833               </td><td>chr2:69245305-69245305  </td></tr>\n",
       "\t<tr><td>TCGA-D8-A1XY-01A        </td><td>SCN9A                   </td><td>chr2                    </td><td>166199365               </td><td>166199365               </td><td>G                       </td><td>A                       </td><td>p.V1758V                </td><td>synonymous_variant      </td><td>PASS                    </td><td>0.1866667               </td><td>chr2:166199365-166199365</td></tr>\n",
       "</tbody>\n",
       "</table>\n"
      ],
      "text/latex": [
       "\\begin{tabular}{r|llllllllllll}\n",
       " Sample\\_ID & gene & chrom & start & end & ref & alt & Amino\\_Acid\\_Change & effect & filter & dna\\_vaf & pos\\\\\n",
       "\\hline\n",
       "\t TCGA-D8-A1XY-01A         & USP24                    & chr1                     &  55159655                &  55159655                & T                        & C                        & p.I342V                  & missense\\_variant       & panel\\_of\\_normals     & 0.4024390                & chr1:55159655-55159655  \\\\\n",
       "\t TCGA-D8-A1XY-01A         & ERICH3                   & chr1                     &  74571494                &  74571494                & C                        & T                        & p.E1406K                 & missense\\_variant       & PASS                     & 0.5116279                & chr1:74571494-74571494  \\\\\n",
       "\t TCGA-D8-A1XY-01A         & KIF26B                   & chr1                     & 245419680                & 245419680                & G                        & T                        & p.S367S                  & synonymous\\_variant     & PASS                     & 0.6588235                & chr1:245419680-245419680\\\\\n",
       "\t TCGA-D8-A1XY-01A         & USP34                    & chr2                     &  61189055                &  61189055                & G                        & C                        & p.L3296L                 & synonymous\\_variant     & PASS                     & 0.2348993                & chr2:61189055-61189055  \\\\\n",
       "\t TCGA-D8-A1XY-01A         & ANTXR1                   & chr2                     &  69245305                &  69245305                & G                        & A                        & p.S505S                  & synonymous\\_variant     & PASS                     & 0.2395833                & chr2:69245305-69245305  \\\\\n",
       "\t TCGA-D8-A1XY-01A         & SCN9A                    & chr2                     & 166199365                & 166199365                & G                        & A                        & p.V1758V                 & synonymous\\_variant     & PASS                     & 0.1866667                & chr2:166199365-166199365\\\\\n",
       "\\end{tabular}\n"
      ],
      "text/markdown": [
       "\n",
       "| Sample_ID | gene | chrom | start | end | ref | alt | Amino_Acid_Change | effect | filter | dna_vaf | pos |\n",
       "|---|---|---|---|---|---|---|---|---|---|---|---|\n",
       "| TCGA-D8-A1XY-01A         | USP24                    | chr1                     |  55159655                |  55159655                | T                        | C                        | p.I342V                  | missense_variant         | panel_of_normals         | 0.4024390                | chr1:55159655-55159655   |\n",
       "| TCGA-D8-A1XY-01A         | ERICH3                   | chr1                     |  74571494                |  74571494                | C                        | T                        | p.E1406K                 | missense_variant         | PASS                     | 0.5116279                | chr1:74571494-74571494   |\n",
       "| TCGA-D8-A1XY-01A         | KIF26B                   | chr1                     | 245419680                | 245419680                | G                        | T                        | p.S367S                  | synonymous_variant       | PASS                     | 0.6588235                | chr1:245419680-245419680 |\n",
       "| TCGA-D8-A1XY-01A         | USP34                    | chr2                     |  61189055                |  61189055                | G                        | C                        | p.L3296L                 | synonymous_variant       | PASS                     | 0.2348993                | chr2:61189055-61189055   |\n",
       "| TCGA-D8-A1XY-01A         | ANTXR1                   | chr2                     |  69245305                |  69245305                | G                        | A                        | p.S505S                  | synonymous_variant       | PASS                     | 0.2395833                | chr2:69245305-69245305   |\n",
       "| TCGA-D8-A1XY-01A         | SCN9A                    | chr2                     | 166199365                | 166199365                | G                        | A                        | p.V1758V                 | synonymous_variant       | PASS                     | 0.1866667                | chr2:166199365-166199365 |\n",
       "\n"
      ],
      "text/plain": [
       "  Sample_ID        gene   chrom start     end       ref alt Amino_Acid_Change\n",
       "1 TCGA-D8-A1XY-01A USP24  chr1   55159655  55159655 T   C   p.I342V          \n",
       "2 TCGA-D8-A1XY-01A ERICH3 chr1   74571494  74571494 C   T   p.E1406K         \n",
       "3 TCGA-D8-A1XY-01A KIF26B chr1  245419680 245419680 G   T   p.S367S          \n",
       "4 TCGA-D8-A1XY-01A USP34  chr2   61189055  61189055 G   C   p.L3296L         \n",
       "5 TCGA-D8-A1XY-01A ANTXR1 chr2   69245305  69245305 G   A   p.S505S          \n",
       "6 TCGA-D8-A1XY-01A SCN9A  chr2  166199365 166199365 G   A   p.V1758V         \n",
       "  effect             filter           dna_vaf   pos                     \n",
       "1 missense_variant   panel_of_normals 0.4024390 chr1:55159655-55159655  \n",
       "2 missense_variant   PASS             0.5116279 chr1:74571494-74571494  \n",
       "3 synonymous_variant PASS             0.6588235 chr1:245419680-245419680\n",
       "4 synonymous_variant PASS             0.2348993 chr2:61189055-61189055  \n",
       "5 synonymous_variant PASS             0.2395833 chr2:69245305-69245305  \n",
       "6 synonymous_variant PASS             0.1866667 chr2:166199365-166199365"
      ]
     },
     "metadata": {},
     "output_type": "display_data"
    }
   ],
   "source": [
    "# 我们这里并没有区分同义突变和非同义突变\n",
    "BRCA.mutect2$pos=paste0(BRCA.mutect2$chrom,':',\n",
    "                        BRCA.mutect2$start,'-',\n",
    "                        BRCA.mutect2$end)\n",
    "head(BRCA.mutect2)"
   ]
  },
  {
   "cell_type": "code",
   "execution_count": 6,
   "metadata": {},
   "outputs": [
    {
     "data": {
      "text/plain": [
       "\n",
       "TCGA-3C-AAAU-01A TCGA-3C-AALI-01A TCGA-3C-AALJ-01A TCGA-3C-AALK-01A \n",
       "              56              807               69               71 \n",
       "TCGA-4H-AAAK-01A TCGA-5L-AAT0-01A \n",
       "              36              262 "
      ]
     },
     "metadata": {},
     "output_type": "display_data"
    }
   ],
   "source": [
    "head(table(BRCA.mutect2$Sample_ID))"
   ]
  },
  {
   "cell_type": "code",
   "execution_count": 7,
   "metadata": {},
   "outputs": [
    {
     "data": {
      "text/html": [
       "<ol class=list-inline>\n",
       "\t<li>1.47368421052632</li>\n",
       "\t<li>21.2368421052632</li>\n",
       "\t<li>1.81578947368421</li>\n",
       "\t<li>1.86842105263158</li>\n",
       "\t<li>0.947368421052632</li>\n",
       "\t<li>6.89473684210526</li>\n",
       "</ol>\n"
      ],
      "text/latex": [
       "\\begin{enumerate*}\n",
       "\\item 1.47368421052632\n",
       "\\item 21.2368421052632\n",
       "\\item 1.81578947368421\n",
       "\\item 1.86842105263158\n",
       "\\item 0.947368421052632\n",
       "\\item 6.89473684210526\n",
       "\\end{enumerate*}\n"
      ],
      "text/markdown": [
       "1. 1.47368421052632\n",
       "2. 21.2368421052632\n",
       "3. 1.81578947368421\n",
       "4. 1.86842105263158\n",
       "5. 0.947368421052632\n",
       "6. 6.89473684210526\n",
       "\n",
       "\n"
      ],
      "text/plain": [
       "[1]  1.4736842 21.2368421  1.8157895  1.8684211  0.9473684  6.8947368"
      ]
     },
     "metadata": {},
     "output_type": "display_data"
    }
   ],
   "source": [
    "TMB=as.numeric(table(BRCA.mutect2$Sample_ID)/38)\n",
    "head(TMB)"
   ]
  },
  {
   "cell_type": "code",
   "execution_count": 8,
   "metadata": {},
   "outputs": [
    {
     "data": {
      "text/html": [
       "<table>\n",
       "<thead><tr><th scope=col>TMB</th><th scope=col>BRCA</th></tr></thead>\n",
       "<tbody>\n",
       "\t<tr><td>1.3066613</td><td>BRCA     </td></tr>\n",
       "\t<tr><td>4.4748800</td><td>BRCA     </td></tr>\n",
       "\t<tr><td>1.4935395</td><td>BRCA     </td></tr>\n",
       "\t<tr><td>1.5202568</td><td>BRCA     </td></tr>\n",
       "\t<tr><td>0.9615259</td><td>BRCA     </td></tr>\n",
       "\t<tr><td>2.9808912</td><td>BRCA     </td></tr>\n",
       "</tbody>\n",
       "</table>\n"
      ],
      "text/latex": [
       "\\begin{tabular}{r|ll}\n",
       " TMB & BRCA\\\\\n",
       "\\hline\n",
       "\t 1.3066613 & BRCA     \\\\\n",
       "\t 4.4748800 & BRCA     \\\\\n",
       "\t 1.4935395 & BRCA     \\\\\n",
       "\t 1.5202568 & BRCA     \\\\\n",
       "\t 0.9615259 & BRCA     \\\\\n",
       "\t 2.9808912 & BRCA     \\\\\n",
       "\\end{tabular}\n"
      ],
      "text/markdown": [
       "\n",
       "| TMB | BRCA |\n",
       "|---|---|\n",
       "| 1.3066613 | BRCA      |\n",
       "| 4.4748800 | BRCA      |\n",
       "| 1.4935395 | BRCA      |\n",
       "| 1.5202568 | BRCA      |\n",
       "| 0.9615259 | BRCA      |\n",
       "| 2.9808912 | BRCA      |\n",
       "\n"
      ],
      "text/plain": [
       "  TMB       BRCA\n",
       "1 1.3066613 BRCA\n",
       "2 4.4748800 BRCA\n",
       "3 1.4935395 BRCA\n",
       "4 1.5202568 BRCA\n",
       "5 0.9615259 BRCA\n",
       "6 2.9808912 BRCA"
      ]
     },
     "metadata": {},
     "output_type": "display_data"
    }
   ],
   "source": [
    "dat=data.frame(TMB=log2(TMB+1),BRCA='BRCA')\n",
    "head(dat)"
   ]
  },
  {
   "cell_type": "code",
   "execution_count": 9,
   "metadata": {},
   "outputs": [
    {
     "data": {
      "text/html": [
       "<ol class=list-inline>\n",
       "\t<li>0.037474705418663</li>\n",
       "\t<li>1.05585323473352</li>\n",
       "\t<li>1.39592867633114</li>\n",
       "\t<li>1.95174483139278</li>\n",
       "\t<li>7.57085435883182</li>\n",
       "</ol>\n"
      ],
      "text/latex": [
       "\\begin{enumerate*}\n",
       "\\item 0.037474705418663\n",
       "\\item 1.05585323473352\n",
       "\\item 1.39592867633114\n",
       "\\item 1.95174483139278\n",
       "\\item 7.57085435883182\n",
       "\\end{enumerate*}\n"
      ],
      "text/markdown": [
       "1. 0.037474705418663\n",
       "2. 1.05585323473352\n",
       "3. 1.39592867633114\n",
       "4. 1.95174483139278\n",
       "5. 7.57085435883182\n",
       "\n",
       "\n"
      ],
      "text/plain": [
       "[1] 0.03747471 1.05585323 1.39592868 1.95174483 7.57085436"
      ]
     },
     "metadata": {},
     "output_type": "display_data"
    }
   ],
   "source": [
    "fivenum(dat$TMB)"
   ]
  },
  {
   "cell_type": "code",
   "execution_count": 11,
   "metadata": {},
   "outputs": [
    {
     "name": "stderr",
     "output_type": "stream",
     "text": [
      "Loading required package: devtools\n",
      "Downloading GitHub repo kassambara/ggpubr@master\n"
     ]
    },
    {
     "name": "stdout",
     "output_type": "stream",
     "text": [
      "ggsci    (NA    -> 2.9  ) [CRAN]\n",
      "ggsignif (NA    -> 0.5.0) [CRAN]\n",
      "polynom  (NA    -> 1.3-9) [CRAN]\n",
      "purrr    (0.3.0 -> 0.3.1) [CRAN]\n",
      "tidyr    (0.8.2 -> 0.8.3) [CRAN]\n"
     ]
    },
    {
     "name": "stderr",
     "output_type": "stream",
     "text": [
      "Installing 5 packages: ggsci, ggsignif, polynom, purrr, tidyr\n",
      "Updating HTML index of packages in '.Library'\n",
      "Making 'packages.html' ... done\n"
     ]
    },
    {
     "name": "stdout",
     "output_type": "stream",
     "text": [
      "✔  checking for file ‘/tmp/RtmpfptJaB/remotes5b197cf4654f/kassambara-ggpubr-de26170/DESCRIPTION’ (585ms)\n",
      "─  preparing ‘ggpubr’:\n",
      "✔  checking DESCRIPTION meta-information\n",
      "─  checking for LF line-endings in source and make files and shell scripts (342ms)\n",
      "─  checking for empty or unneeded directories\n",
      "─  looking to see if a ‘data/datalist’ file should be added\n",
      "─  building ‘ggpubr_0.2.999.tar.gz’\n",
      "   \n"
     ]
    }
   ],
   "source": [
    "if(!require(devtools)) install.packages(\"devtools\")\n",
    "devtools::install_github(\"kassambara/ggpubr\")"
   ]
  },
  {
   "cell_type": "code",
   "execution_count": 12,
   "metadata": {},
   "outputs": [
    {
     "name": "stderr",
     "output_type": "stream",
     "text": [
      "Loading required package: ggplot2\n",
      "Loading required package: magrittr\n"
     ]
    },
    {
     "data": {
      "image/png": "[encoded data removed]",
      "text/plain": [
       "plot without title"
      ]
     },
     "metadata": {},
     "output_type": "display_data"
    }
   ],
   "source": [
    "library(ggpubr)\n",
    "ggviolin(dat,x = 'BRCA',  y = 'TMB',ylab = 'log2(TMB+1)',xlab='TCGA')"
   ]
  },
  {
   "cell_type": "markdown",
   "metadata": {},
   "source": [
    "# 现在我们开始抽样，我们选择10-300个基因，每10个基因增加这样的panel进行随机抽样算TMB"
   ]
  },
  {
   "cell_type": "code",
   "execution_count": 13,
   "metadata": {},
   "outputs": [
    {
     "data": {
      "text/html": [
       "<table>\n",
       "<thead><tr><th scope=col>V1</th><th scope=col>V2</th></tr></thead>\n",
       "<tbody>\n",
       "\t<tr><td>DCAF8L1</td><td>1802   </td></tr>\n",
       "\t<tr><td>CWF19L2</td><td>2667   </td></tr>\n",
       "\t<tr><td>TBL1XR1</td><td>1531   </td></tr>\n",
       "\t<tr><td>KCNG4  </td><td>1558   </td></tr>\n",
       "\t<tr><td>SPANXN1</td><td> 217   </td></tr>\n",
       "\t<tr><td>PPARD  </td><td>1790   </td></tr>\n",
       "</tbody>\n",
       "</table>\n"
      ],
      "text/latex": [
       "\\begin{tabular}{r|ll}\n",
       " V1 & V2\\\\\n",
       "\\hline\n",
       "\t DCAF8L1 & 1802   \\\\\n",
       "\t CWF19L2 & 2667   \\\\\n",
       "\t TBL1XR1 & 1531   \\\\\n",
       "\t KCNG4   & 1558   \\\\\n",
       "\t SPANXN1 &  217   \\\\\n",
       "\t PPARD   & 1790   \\\\\n",
       "\\end{tabular}\n"
      ],
      "text/markdown": [
       "\n",
       "| V1 | V2 |\n",
       "|---|---|\n",
       "| DCAF8L1 | 1802    |\n",
       "| CWF19L2 | 2667    |\n",
       "| TBL1XR1 | 1531    |\n",
       "| KCNG4   | 1558    |\n",
       "| SPANXN1 |  217    |\n",
       "| PPARD   | 1790    |\n",
       "\n"
      ],
      "text/plain": [
       "  V1      V2  \n",
       "1 DCAF8L1 1802\n",
       "2 CWF19L2 2667\n",
       "3 TBL1XR1 1531\n",
       "4 KCNG4   1558\n",
       "5 SPANXN1  217\n",
       "6 PPARD   1790"
      ]
     },
     "metadata": {},
     "output_type": "display_data"
    }
   ],
   "source": [
    "gl=read.table('gene_length.human.txt')\n",
    "head(gl) "
   ]
  },
  {
   "cell_type": "code",
   "execution_count": 14,
   "metadata": {},
   "outputs": [
    {
     "data": {
      "text/html": [
       "<table>\n",
       "<thead><tr><th scope=col>Var1</th><th scope=col>Freq</th></tr></thead>\n",
       "<tbody>\n",
       "\t<tr><td>TCGA-3C-AAAU-01A</td><td> 1.4736842      </td></tr>\n",
       "\t<tr><td>TCGA-3C-AALI-01A</td><td>21.2368421      </td></tr>\n",
       "\t<tr><td>TCGA-3C-AALJ-01A</td><td> 1.8157895      </td></tr>\n",
       "\t<tr><td>TCGA-3C-AALK-01A</td><td> 1.8684211      </td></tr>\n",
       "\t<tr><td>TCGA-4H-AAAK-01A</td><td> 0.9473684      </td></tr>\n",
       "\t<tr><td>TCGA-5L-AAT0-01A</td><td> 6.8947368      </td></tr>\n",
       "</tbody>\n",
       "</table>\n"
      ],
      "text/latex": [
       "\\begin{tabular}{r|ll}\n",
       " Var1 & Freq\\\\\n",
       "\\hline\n",
       "\t TCGA-3C-AAAU-01A &  1.4736842      \\\\\n",
       "\t TCGA-3C-AALI-01A & 21.2368421      \\\\\n",
       "\t TCGA-3C-AALJ-01A &  1.8157895      \\\\\n",
       "\t TCGA-3C-AALK-01A &  1.8684211      \\\\\n",
       "\t TCGA-4H-AAAK-01A &  0.9473684      \\\\\n",
       "\t TCGA-5L-AAT0-01A &  6.8947368      \\\\\n",
       "\\end{tabular}\n"
      ],
      "text/markdown": [
       "\n",
       "| Var1 | Freq |\n",
       "|---|---|\n",
       "| TCGA-3C-AAAU-01A |  1.4736842       |\n",
       "| TCGA-3C-AALI-01A | 21.2368421       |\n",
       "| TCGA-3C-AALJ-01A |  1.8157895       |\n",
       "| TCGA-3C-AALK-01A |  1.8684211       |\n",
       "| TCGA-4H-AAAK-01A |  0.9473684       |\n",
       "| TCGA-5L-AAT0-01A |  6.8947368       |\n",
       "\n"
      ],
      "text/plain": [
       "  Var1             Freq      \n",
       "1 TCGA-3C-AAAU-01A  1.4736842\n",
       "2 TCGA-3C-AALI-01A 21.2368421\n",
       "3 TCGA-3C-AALJ-01A  1.8157895\n",
       "4 TCGA-3C-AALK-01A  1.8684211\n",
       "5 TCGA-4H-AAAK-01A  0.9473684\n",
       "6 TCGA-5L-AAT0-01A  6.8947368"
      ]
     },
     "metadata": {},
     "output_type": "display_data"
    }
   ],
   "source": [
    "TMB=as.data.frame(table(BRCA.mutect2$Sample_ID)/38)\n",
    "head(TMB)\n",
    "allgenes=unique(BRCA.mutect2$gene)"
   ]
  },
  {
   "cell_type": "code",
   "execution_count": 15,
   "metadata": {},
   "outputs": [
    {
     "name": "stderr",
     "output_type": "stream",
     "text": [
      "Warning message in cor(comp[, 2], comp[, 3]):\n",
      "“the standard deviation is zero”Warning message in cor(comp[, 2], comp[, 3]):\n",
      "“the standard deviation is zero”"
     ]
    }
   ],
   "source": [
    "tmp=lapply(seq(10,300,by=10), function(size){\n",
    "  as.numeric(lapply(1:1000, function(x){\n",
    "    cg=sample(allgenes,size)\n",
    "    panle_length=sum(gl[gl[,1] %in% cg,2])/1000000\n",
    "    small.BRCA.mutect2=BRCA.mutect2[BRCA.mutect2$gene %in% cg,]\n",
    "    small.TMB=as.data.frame(table(small.BRCA.mutect2$Sample_ID)/panle_length)\n",
    "    comp=merge(small.TMB, TMB,by='Var1')\n",
    "     # 第一个问题，这里忽略了很多TMB为0的样本，是否合理\n",
    "    cor(comp[,2],comp[,3])\n",
    "      # 第二个问题，计算TMB相关性的时候，我们并没有进行归一化。\n",
    "  }))\n",
    "})"
   ]
  },
  {
   "cell_type": "code",
   "execution_count": null,
   "metadata": {},
   "outputs": [],
   "source": [
    "head(tmp)"
   ]
  },
  {
   "cell_type": "markdown",
   "metadata": {},
   "source": [
    "cg = sample(allgenes,10); cg\n",
    "panle_length=sum(gl[gl[,1] %in% cg,2])/1000000 ; panle_length\n",
    "small.BRCA.mutect2=BRCA.mutect2[BRCA.mutect2$gene %in% cg,]; nrow(small.BRCA.mutect2)\n",
    "small.TMB=as.data.frame(table(small.BRCA.mutect2$Sample_ID)/panle_length); nrow(small.TMB);nrow(TMB)\n",
    "comp=merge(small.TMB, TMB,by='Var1'); head(comp);class(comp);nrow(comp)\n",
    "cor(comp[,2],comp[,3])\n"
   ]
  },
  {
   "cell_type": "code",
   "execution_count": 28,
   "metadata": {},
   "outputs": [
    {
     "data": {
      "text/html": [
       "<table>\n",
       "<tbody>\n",
       "\t<tr><th scope=row>10</th><td>0.8294229</td><td>0.9203281</td><td>0.7184823</td><td>0.7219295</td><td>0.5743104</td><td>0.1463658</td><td>0.8576621</td><td>0.7098865</td><td>0.8324005</td><td>0.5919307</td><td>⋯        </td><td>0.9422221</td><td>0.8674681</td><td>0.8145227</td><td>0.9026918</td><td>0.5553946</td><td>0.5808288</td><td>0.6506699</td><td>0.5756175</td><td>0.5426195</td><td>0.7901531</td></tr>\n",
       "\t<tr><th scope=row>20</th><td>0.8266813</td><td>0.9379749</td><td>0.8490754</td><td>0.8128061</td><td>0.8708749</td><td>0.8830032</td><td>0.5740769</td><td>0.7192819</td><td>0.7905629</td><td>0.7604422</td><td>⋯        </td><td>0.8876761</td><td>0.8247086</td><td>0.7978356</td><td>0.8866334</td><td>0.9030759</td><td>0.6080648</td><td>0.8550440</td><td>0.8871134</td><td>0.8235647</td><td>0.9104201</td></tr>\n",
       "\t<tr><th scope=row>30</th><td>0.7141293</td><td>0.8959488</td><td>0.9036290</td><td>0.8645790</td><td>0.9153204</td><td>0.8984115</td><td>0.9208452</td><td>0.8833702</td><td>0.8980272</td><td>0.9170069</td><td>⋯        </td><td>0.8155927</td><td>0.8993829</td><td>0.8837968</td><td>0.8076258</td><td>0.9409497</td><td>0.7899905</td><td>0.9164395</td><td>0.8583600</td><td>0.8721946</td><td>0.6527813</td></tr>\n",
       "\t<tr><th scope=row>40</th><td>0.9102941</td><td>0.9260508</td><td>0.8324167</td><td>0.9046321</td><td>0.8808929</td><td>0.9163239</td><td>0.8539820</td><td>0.8283830</td><td>0.8830265</td><td>0.7885285</td><td>⋯        </td><td>0.8691225</td><td>0.8671636</td><td>0.8527833</td><td>0.8963701</td><td>0.9217636</td><td>0.8668763</td><td>0.9356863</td><td>0.8110036</td><td>0.9173933</td><td>0.9201636</td></tr>\n",
       "\t<tr><th scope=row>50</th><td>0.9288524</td><td>0.9047020</td><td>0.9079199</td><td>0.9341630</td><td>0.8936611</td><td>0.9398224</td><td>0.8428765</td><td>0.9409987</td><td>0.9428114</td><td>0.9337686</td><td>⋯        </td><td>0.9460640</td><td>0.9213224</td><td>0.9203657</td><td>0.9253442</td><td>0.8871431</td><td>0.9115359</td><td>0.8788955</td><td>0.9350384</td><td>0.9088733</td><td>0.8890812</td></tr>\n",
       "\t<tr><th scope=row>60</th><td>0.9219901</td><td>0.8977811</td><td>0.9306634</td><td>0.9124712</td><td>0.9067854</td><td>0.9183718</td><td>0.9383124</td><td>0.9386118</td><td>0.9170040</td><td>0.8511631</td><td>⋯        </td><td>0.8852953</td><td>0.9277837</td><td>0.9315373</td><td>0.9309827</td><td>0.8883978</td><td>0.8873585</td><td>0.9359687</td><td>0.9255737</td><td>0.8982649</td><td>0.9441922</td></tr>\n",
       "</tbody>\n",
       "</table>\n"
      ],
      "text/latex": [
       "\\begin{tabular}{r|llllllllllllllllllllllllllllllllllllllllllllllllllllllllllllllllllllllllllllllllllllllllllllllllllllllllllllllllllllllllllllllllllllllllllllllllllllllllllllllllllllllllllllllllllllllllllllllllllllllllllllllllllllllllllllllllllllllllllllllllllllllllllllllllllllllllllllllllllllllllllllllllllllllllllllllllllllllllllllllllllllllllllllllllllllllllllllllllllllllllllllllllllllllllllllllllllllllllllllllllllllllllllllllllllllllllllllllllllllllllllllllllllllllllllllllllllllllllllllllllllllllllllllllllllllllllllllllllllllllllllllllllllllllllllllllllllllllllllllllllllllllllllllllllllllllllllllllllllllllllllllllllllllllllllllllllllllllllllllllllllllllllllllllllllllllllllllllllllllllllllllllllllllllllllllllllllllllllllllllllllllllllllllllllllllllllllllllllllllllllllllllllllllllllllllllllllllllllllllllllllllllllllllllllllllllllllllllllllllllllllllllllllllllllllllllllllllllllllllllllllllllllllllllllllllllllllllllllllllllllllllllllllllllllllllllllllllllllllllllllllllllllllllllllllllllllllllllllllllllll}\n",
       "\t10 & 0.8294229 & 0.9203281 & 0.7184823 & 0.7219295 & 0.5743104 & 0.1463658 & 0.8576621 & 0.7098865 & 0.8324005 & 0.5919307 & ⋯         & 0.9422221 & 0.8674681 & 0.8145227 & 0.9026918 & 0.5553946 & 0.5808288 & 0.6506699 & 0.5756175 & 0.5426195 & 0.7901531\\\\\n",
       "\t20 & 0.8266813 & 0.9379749 & 0.8490754 & 0.8128061 & 0.8708749 & 0.8830032 & 0.5740769 & 0.7192819 & 0.7905629 & 0.7604422 & ⋯         & 0.8876761 & 0.8247086 & 0.7978356 & 0.8866334 & 0.9030759 & 0.6080648 & 0.8550440 & 0.8871134 & 0.8235647 & 0.9104201\\\\\n",
       "\t30 & 0.7141293 & 0.8959488 & 0.9036290 & 0.8645790 & 0.9153204 & 0.8984115 & 0.9208452 & 0.8833702 & 0.8980272 & 0.9170069 & ⋯         & 0.8155927 & 0.8993829 & 0.8837968 & 0.8076258 & 0.9409497 & 0.7899905 & 0.9164395 & 0.8583600 & 0.8721946 & 0.6527813\\\\\n",
       "\t40 & 0.9102941 & 0.9260508 & 0.8324167 & 0.9046321 & 0.8808929 & 0.9163239 & 0.8539820 & 0.8283830 & 0.8830265 & 0.7885285 & ⋯         & 0.8691225 & 0.8671636 & 0.8527833 & 0.8963701 & 0.9217636 & 0.8668763 & 0.9356863 & 0.8110036 & 0.9173933 & 0.9201636\\\\\n",
       "\t50 & 0.9288524 & 0.9047020 & 0.9079199 & 0.9341630 & 0.8936611 & 0.9398224 & 0.8428765 & 0.9409987 & 0.9428114 & 0.9337686 & ⋯         & 0.9460640 & 0.9213224 & 0.9203657 & 0.9253442 & 0.8871431 & 0.9115359 & 0.8788955 & 0.9350384 & 0.9088733 & 0.8890812\\\\\n",
       "\t60 & 0.9219901 & 0.8977811 & 0.9306634 & 0.9124712 & 0.9067854 & 0.9183718 & 0.9383124 & 0.9386118 & 0.9170040 & 0.8511631 & ⋯         & 0.8852953 & 0.9277837 & 0.9315373 & 0.9309827 & 0.8883978 & 0.8873585 & 0.9359687 & 0.9255737 & 0.8982649 & 0.9441922\\\\\n",
       "\\end{tabular}\n"
      ],
      "text/markdown": [
       "\n",
       "| 10 | 0.8294229 | 0.9203281 | 0.7184823 | 0.7219295 | 0.5743104 | 0.1463658 | 0.8576621 | 0.7098865 | 0.8324005 | 0.5919307 | ⋯         | 0.9422221 | 0.8674681 | 0.8145227 | 0.9026918 | 0.5553946 | 0.5808288 | 0.6506699 | 0.5756175 | 0.5426195 | 0.7901531 |\n",
       "| 20 | 0.8266813 | 0.9379749 | 0.8490754 | 0.8128061 | 0.8708749 | 0.8830032 | 0.5740769 | 0.7192819 | 0.7905629 | 0.7604422 | ⋯         | 0.8876761 | 0.8247086 | 0.7978356 | 0.8866334 | 0.9030759 | 0.6080648 | 0.8550440 | 0.8871134 | 0.8235647 | 0.9104201 |\n",
       "| 30 | 0.7141293 | 0.8959488 | 0.9036290 | 0.8645790 | 0.9153204 | 0.8984115 | 0.9208452 | 0.8833702 | 0.8980272 | 0.9170069 | ⋯         | 0.8155927 | 0.8993829 | 0.8837968 | 0.8076258 | 0.9409497 | 0.7899905 | 0.9164395 | 0.8583600 | 0.8721946 | 0.6527813 |\n",
       "| 40 | 0.9102941 | 0.9260508 | 0.8324167 | 0.9046321 | 0.8808929 | 0.9163239 | 0.8539820 | 0.8283830 | 0.8830265 | 0.7885285 | ⋯         | 0.8691225 | 0.8671636 | 0.8527833 | 0.8963701 | 0.9217636 | 0.8668763 | 0.9356863 | 0.8110036 | 0.9173933 | 0.9201636 |\n",
       "| 50 | 0.9288524 | 0.9047020 | 0.9079199 | 0.9341630 | 0.8936611 | 0.9398224 | 0.8428765 | 0.9409987 | 0.9428114 | 0.9337686 | ⋯         | 0.9460640 | 0.9213224 | 0.9203657 | 0.9253442 | 0.8871431 | 0.9115359 | 0.8788955 | 0.9350384 | 0.9088733 | 0.8890812 |\n",
       "| 60 | 0.9219901 | 0.8977811 | 0.9306634 | 0.9124712 | 0.9067854 | 0.9183718 | 0.9383124 | 0.9386118 | 0.9170040 | 0.8511631 | ⋯         | 0.8852953 | 0.9277837 | 0.9315373 | 0.9309827 | 0.8883978 | 0.8873585 | 0.9359687 | 0.9255737 | 0.8982649 | 0.9441922 |\n",
       "\n"
      ],
      "text/plain": [
       "   [,1]      [,2]      [,3]      [,4]      [,5]      [,6]      [,7]     \n",
       "10 0.8294229 0.9203281 0.7184823 0.7219295 0.5743104 0.1463658 0.8576621\n",
       "20 0.8266813 0.9379749 0.8490754 0.8128061 0.8708749 0.8830032 0.5740769\n",
       "30 0.7141293 0.8959488 0.9036290 0.8645790 0.9153204 0.8984115 0.9208452\n",
       "40 0.9102941 0.9260508 0.8324167 0.9046321 0.8808929 0.9163239 0.8539820\n",
       "50 0.9288524 0.9047020 0.9079199 0.9341630 0.8936611 0.9398224 0.8428765\n",
       "60 0.9219901 0.8977811 0.9306634 0.9124712 0.9067854 0.9183718 0.9383124\n",
       "   [,8]      [,9]      [,10]     [,11] [,12]     [,13]     [,14]     [,15]    \n",
       "10 0.7098865 0.8324005 0.5919307 ⋯     0.9422221 0.8674681 0.8145227 0.9026918\n",
       "20 0.7192819 0.7905629 0.7604422 ⋯     0.8876761 0.8247086 0.7978356 0.8866334\n",
       "30 0.8833702 0.8980272 0.9170069 ⋯     0.8155927 0.8993829 0.8837968 0.8076258\n",
       "40 0.8283830 0.8830265 0.7885285 ⋯     0.8691225 0.8671636 0.8527833 0.8963701\n",
       "50 0.9409987 0.9428114 0.9337686 ⋯     0.9460640 0.9213224 0.9203657 0.9253442\n",
       "60 0.9386118 0.9170040 0.8511631 ⋯     0.8852953 0.9277837 0.9315373 0.9309827\n",
       "   [,16]     [,17]     [,18]     [,19]     [,20]     [,21]    \n",
       "10 0.5553946 0.5808288 0.6506699 0.5756175 0.5426195 0.7901531\n",
       "20 0.9030759 0.6080648 0.8550440 0.8871134 0.8235647 0.9104201\n",
       "30 0.9409497 0.7899905 0.9164395 0.8583600 0.8721946 0.6527813\n",
       "40 0.9217636 0.8668763 0.9356863 0.8110036 0.9173933 0.9201636\n",
       "50 0.8871431 0.9115359 0.8788955 0.9350384 0.9088733 0.8890812\n",
       "60 0.8883978 0.8873585 0.9359687 0.9255737 0.8982649 0.9441922"
      ]
     },
     "metadata": {},
     "output_type": "display_data"
    },
    {
     "data": {
      "text/html": [
       "<dl class=dl-horizontal>\n",
       "\t<dt>10</dt>\n",
       "\t\t<dd>&lt;NA&gt;</dd>\n",
       "\t<dt>20</dt>\n",
       "\t\t<dd>0.815954608919198</dd>\n",
       "\t<dt>30</dt>\n",
       "\t\t<dd>0.866340041517589</dd>\n",
       "\t<dt>40</dt>\n",
       "\t\t<dd>0.89061748334341</dd>\n",
       "\t<dt>50</dt>\n",
       "\t\t<dd>0.906331188407358</dd>\n",
       "\t<dt>60</dt>\n",
       "\t\t<dd>0.917882967312502</dd>\n",
       "\t<dt>70</dt>\n",
       "\t\t<dd>0.928110215127435</dd>\n",
       "\t<dt>80</dt>\n",
       "\t\t<dd>0.934834393468233</dd>\n",
       "\t<dt>90</dt>\n",
       "\t\t<dd>0.940066812547374</dd>\n",
       "\t<dt>100</dt>\n",
       "\t\t<dd>0.944568105071949</dd>\n",
       "\t<dt>110</dt>\n",
       "\t\t<dd>0.948631259672742</dd>\n",
       "\t<dt>120</dt>\n",
       "\t\t<dd>0.951573153559562</dd>\n",
       "\t<dt>130</dt>\n",
       "\t\t<dd>0.953667573804797</dd>\n",
       "\t<dt>140</dt>\n",
       "\t\t<dd>0.956889834321743</dd>\n",
       "\t<dt>150</dt>\n",
       "\t\t<dd>0.959231478756222</dd>\n",
       "\t<dt>160</dt>\n",
       "\t\t<dd>0.960173777938447</dd>\n",
       "\t<dt>170</dt>\n",
       "\t\t<dd>0.962646117696345</dd>\n",
       "\t<dt>180</dt>\n",
       "\t\t<dd>0.9638851906736</dd>\n",
       "\t<dt>190</dt>\n",
       "\t\t<dd>0.965451612319045</dd>\n",
       "\t<dt>200</dt>\n",
       "\t\t<dd>0.966271612788807</dd>\n",
       "\t<dt>210</dt>\n",
       "\t\t<dd>0.967842461464935</dd>\n",
       "\t<dt>220</dt>\n",
       "\t\t<dd>0.968919566688707</dd>\n",
       "\t<dt>230</dt>\n",
       "\t\t<dd>0.969820511835504</dd>\n",
       "\t<dt>240</dt>\n",
       "\t\t<dd>0.971063290501564</dd>\n",
       "\t<dt>250</dt>\n",
       "\t\t<dd>0.971722824424971</dd>\n",
       "\t<dt>260</dt>\n",
       "\t\t<dd>0.972709101110273</dd>\n",
       "\t<dt>270</dt>\n",
       "\t\t<dd>0.973630049882786</dd>\n",
       "\t<dt>280</dt>\n",
       "\t\t<dd>0.974559444059542</dd>\n",
       "\t<dt>290</dt>\n",
       "\t\t<dd>0.975018226452205</dd>\n",
       "\t<dt>300</dt>\n",
       "\t\t<dd>0.975436573053101</dd>\n",
       "</dl>\n"
      ],
      "text/latex": [
       "\\begin{description*}\n",
       "\\item[10] <NA>\n",
       "\\item[20] 0.815954608919198\n",
       "\\item[30] 0.866340041517589\n",
       "\\item[40] 0.89061748334341\n",
       "\\item[50] 0.906331188407358\n",
       "\\item[60] 0.917882967312502\n",
       "\\item[70] 0.928110215127435\n",
       "\\item[80] 0.934834393468233\n",
       "\\item[90] 0.940066812547374\n",
       "\\item[100] 0.944568105071949\n",
       "\\item[110] 0.948631259672742\n",
       "\\item[120] 0.951573153559562\n",
       "\\item[130] 0.953667573804797\n",
       "\\item[140] 0.956889834321743\n",
       "\\item[150] 0.959231478756222\n",
       "\\item[160] 0.960173777938447\n",
       "\\item[170] 0.962646117696345\n",
       "\\item[180] 0.9638851906736\n",
       "\\item[190] 0.965451612319045\n",
       "\\item[200] 0.966271612788807\n",
       "\\item[210] 0.967842461464935\n",
       "\\item[220] 0.968919566688707\n",
       "\\item[230] 0.969820511835504\n",
       "\\item[240] 0.971063290501564\n",
       "\\item[250] 0.971722824424971\n",
       "\\item[260] 0.972709101110273\n",
       "\\item[270] 0.973630049882786\n",
       "\\item[280] 0.974559444059542\n",
       "\\item[290] 0.975018226452205\n",
       "\\item[300] 0.975436573053101\n",
       "\\end{description*}\n"
      ],
      "text/markdown": [
       "10\n",
       ":   &lt;NA&gt;20\n",
       ":   0.81595460891919830\n",
       ":   0.86634004151758940\n",
       ":   0.8906174833434150\n",
       ":   0.90633118840735860\n",
       ":   0.91788296731250270\n",
       ":   0.92811021512743580\n",
       ":   0.93483439346823390\n",
       ":   0.940066812547374100\n",
       ":   0.944568105071949110\n",
       ":   0.948631259672742120\n",
       ":   0.951573153559562130\n",
       ":   0.953667573804797140\n",
       ":   0.956889834321743150\n",
       ":   0.959231478756222160\n",
       ":   0.960173777938447170\n",
       ":   0.962646117696345180\n",
       ":   0.9638851906736190\n",
       ":   0.965451612319045200\n",
       ":   0.966271612788807210\n",
       ":   0.967842461464935220\n",
       ":   0.968919566688707230\n",
       ":   0.969820511835504240\n",
       ":   0.971063290501564250\n",
       ":   0.971722824424971260\n",
       ":   0.972709101110273270\n",
       ":   0.973630049882786280\n",
       ":   0.974559444059542290\n",
       ":   0.975018226452205300\n",
       ":   0.975436573053101\n",
       "\n"
      ],
      "text/plain": [
       "       10        20        30        40        50        60        70        80 \n",
       "       NA 0.8159546 0.8663400 0.8906175 0.9063312 0.9178830 0.9281102 0.9348344 \n",
       "       90       100       110       120       130       140       150       160 \n",
       "0.9400668 0.9445681 0.9486313 0.9515732 0.9536676 0.9568898 0.9592315 0.9601738 \n",
       "      170       180       190       200       210       220       230       240 \n",
       "0.9626461 0.9638852 0.9654516 0.9662716 0.9678425 0.9689196 0.9698205 0.9710633 \n",
       "      250       260       270       280       290       300 \n",
       "0.9717228 0.9727091 0.9736300 0.9745594 0.9750182 0.9754366 "
      ]
     },
     "metadata": {},
     "output_type": "display_data"
    },
    {
     "data": {
      "text/html": [
       "<table>\n",
       "<thead><tr><th scope=col>10</th><th scope=col>20</th><th scope=col>30</th><th scope=col>40</th><th scope=col>50</th><th scope=col>60</th><th scope=col>70</th><th scope=col>80</th><th scope=col>90</th><th scope=col>100</th><th scope=col>⋯</th><th scope=col>210</th><th scope=col>220</th><th scope=col>230</th><th scope=col>240</th><th scope=col>250</th><th scope=col>260</th><th scope=col>270</th><th scope=col>280</th><th scope=col>290</th><th scope=col>300</th></tr></thead>\n",
       "<tbody>\n",
       "\t<tr><td>0.8294229</td><td>0.8266813</td><td>0.7141293</td><td>0.9102941</td><td>0.9288524</td><td>0.9219901</td><td>0.9477465</td><td>0.9376283</td><td>0.9566349</td><td>0.9399506</td><td>⋯        </td><td>0.9726165</td><td>0.9722167</td><td>0.9733375</td><td>0.9797691</td><td>0.9730149</td><td>0.9678184</td><td>0.9677313</td><td>0.9714346</td><td>0.9749823</td><td>0.9786853</td></tr>\n",
       "\t<tr><td>0.9203281</td><td>0.9379749</td><td>0.8959488</td><td>0.9260508</td><td>0.9047020</td><td>0.8977811</td><td>0.9306731</td><td>0.9198966</td><td>0.9293693</td><td>0.9422099</td><td>⋯        </td><td>0.9708515</td><td>0.9687092</td><td>0.9682076</td><td>0.9672684</td><td>0.9772206</td><td>0.9746415</td><td>0.9761254</td><td>0.9771242</td><td>0.9794952</td><td>0.9774999</td></tr>\n",
       "\t<tr><td>0.7184823</td><td>0.8490754</td><td>0.9036290</td><td>0.8324167</td><td>0.9079199</td><td>0.9306634</td><td>0.9270532</td><td>0.9414231</td><td>0.9102525</td><td>0.9480799</td><td>⋯        </td><td>0.9649458</td><td>0.9763129</td><td>0.9705573</td><td>0.9728587</td><td>0.9796235</td><td>0.9797518</td><td>0.9732961</td><td>0.9769201</td><td>0.9651984</td><td>0.9809152</td></tr>\n",
       "\t<tr><td>0.7219295</td><td>0.8128061</td><td>0.8645790</td><td>0.9046321</td><td>0.9341630</td><td>0.9124712</td><td>0.9097445</td><td>0.9345172</td><td>0.9515922</td><td>0.9546968</td><td>⋯        </td><td>0.9680261</td><td>0.9776794</td><td>0.9700759</td><td>0.9612342</td><td>0.9728078</td><td>0.9609369</td><td>0.9782025</td><td>0.9780794</td><td>0.9756580</td><td>0.9760146</td></tr>\n",
       "\t<tr><td>0.5743104</td><td>0.8708749</td><td>0.9153204</td><td>0.8808929</td><td>0.8936611</td><td>0.9067854</td><td>0.9218086</td><td>0.9285796</td><td>0.9587990</td><td>0.9503819</td><td>⋯        </td><td>0.9714971</td><td>0.9696088</td><td>0.9750044</td><td>0.9662507</td><td>0.9794587</td><td>0.9698031</td><td>0.9718749</td><td>0.9814213</td><td>0.9770946</td><td>0.9750759</td></tr>\n",
       "\t<tr><td>0.1463658</td><td>0.8830032</td><td>0.8984115</td><td>0.9163239</td><td>0.9398224</td><td>0.9183718</td><td>0.9170751</td><td>0.9436625</td><td>0.9590460</td><td>0.9569129</td><td>⋯        </td><td>0.9729265</td><td>0.9652364</td><td>0.9753745</td><td>0.9737934</td><td>0.9766670</td><td>0.9755036</td><td>0.9660118</td><td>0.9752656</td><td>0.9768856</td><td>0.9768842</td></tr>\n",
       "</tbody>\n",
       "</table>\n"
      ],
      "text/latex": [
       "\\begin{tabular}{llllllllllllllllllllllllllllll}\n",
       " 10 & 20 & 30 & 40 & 50 & 60 & 70 & 80 & 90 & 100 & ⋯ & 210 & 220 & 230 & 240 & 250 & 260 & 270 & 280 & 290 & 300\\\\\n",
       "\\hline\n",
       "\t 0.8294229 & 0.8266813 & 0.7141293 & 0.9102941 & 0.9288524 & 0.9219901 & 0.9477465 & 0.9376283 & 0.9566349 & 0.9399506 & ⋯         & 0.9726165 & 0.9722167 & 0.9733375 & 0.9797691 & 0.9730149 & 0.9678184 & 0.9677313 & 0.9714346 & 0.9749823 & 0.9786853\\\\\n",
       "\t 0.9203281 & 0.9379749 & 0.8959488 & 0.9260508 & 0.9047020 & 0.8977811 & 0.9306731 & 0.9198966 & 0.9293693 & 0.9422099 & ⋯         & 0.9708515 & 0.9687092 & 0.9682076 & 0.9672684 & 0.9772206 & 0.9746415 & 0.9761254 & 0.9771242 & 0.9794952 & 0.9774999\\\\\n",
       "\t 0.7184823 & 0.8490754 & 0.9036290 & 0.8324167 & 0.9079199 & 0.9306634 & 0.9270532 & 0.9414231 & 0.9102525 & 0.9480799 & ⋯         & 0.9649458 & 0.9763129 & 0.9705573 & 0.9728587 & 0.9796235 & 0.9797518 & 0.9732961 & 0.9769201 & 0.9651984 & 0.9809152\\\\\n",
       "\t 0.7219295 & 0.8128061 & 0.8645790 & 0.9046321 & 0.9341630 & 0.9124712 & 0.9097445 & 0.9345172 & 0.9515922 & 0.9546968 & ⋯         & 0.9680261 & 0.9776794 & 0.9700759 & 0.9612342 & 0.9728078 & 0.9609369 & 0.9782025 & 0.9780794 & 0.9756580 & 0.9760146\\\\\n",
       "\t 0.5743104 & 0.8708749 & 0.9153204 & 0.8808929 & 0.8936611 & 0.9067854 & 0.9218086 & 0.9285796 & 0.9587990 & 0.9503819 & ⋯         & 0.9714971 & 0.9696088 & 0.9750044 & 0.9662507 & 0.9794587 & 0.9698031 & 0.9718749 & 0.9814213 & 0.9770946 & 0.9750759\\\\\n",
       "\t 0.1463658 & 0.8830032 & 0.8984115 & 0.9163239 & 0.9398224 & 0.9183718 & 0.9170751 & 0.9436625 & 0.9590460 & 0.9569129 & ⋯         & 0.9729265 & 0.9652364 & 0.9753745 & 0.9737934 & 0.9766670 & 0.9755036 & 0.9660118 & 0.9752656 & 0.9768856 & 0.9768842\\\\\n",
       "\\end{tabular}\n"
      ],
      "text/markdown": [
       "\n",
       "| 10 | 20 | 30 | 40 | 50 | 60 | 70 | 80 | 90 | 100 | ⋯ | 210 | 220 | 230 | 240 | 250 | 260 | 270 | 280 | 290 | 300 |\n",
       "|---|---|---|---|---|---|---|---|---|---|---|---|---|---|---|---|---|---|---|---|---|\n",
       "| 0.8294229 | 0.8266813 | 0.7141293 | 0.9102941 | 0.9288524 | 0.9219901 | 0.9477465 | 0.9376283 | 0.9566349 | 0.9399506 | ⋯         | 0.9726165 | 0.9722167 | 0.9733375 | 0.9797691 | 0.9730149 | 0.9678184 | 0.9677313 | 0.9714346 | 0.9749823 | 0.9786853 |\n",
       "| 0.9203281 | 0.9379749 | 0.8959488 | 0.9260508 | 0.9047020 | 0.8977811 | 0.9306731 | 0.9198966 | 0.9293693 | 0.9422099 | ⋯         | 0.9708515 | 0.9687092 | 0.9682076 | 0.9672684 | 0.9772206 | 0.9746415 | 0.9761254 | 0.9771242 | 0.9794952 | 0.9774999 |\n",
       "| 0.7184823 | 0.8490754 | 0.9036290 | 0.8324167 | 0.9079199 | 0.9306634 | 0.9270532 | 0.9414231 | 0.9102525 | 0.9480799 | ⋯         | 0.9649458 | 0.9763129 | 0.9705573 | 0.9728587 | 0.9796235 | 0.9797518 | 0.9732961 | 0.9769201 | 0.9651984 | 0.9809152 |\n",
       "| 0.7219295 | 0.8128061 | 0.8645790 | 0.9046321 | 0.9341630 | 0.9124712 | 0.9097445 | 0.9345172 | 0.9515922 | 0.9546968 | ⋯         | 0.9680261 | 0.9776794 | 0.9700759 | 0.9612342 | 0.9728078 | 0.9609369 | 0.9782025 | 0.9780794 | 0.9756580 | 0.9760146 |\n",
       "| 0.5743104 | 0.8708749 | 0.9153204 | 0.8808929 | 0.8936611 | 0.9067854 | 0.9218086 | 0.9285796 | 0.9587990 | 0.9503819 | ⋯         | 0.9714971 | 0.9696088 | 0.9750044 | 0.9662507 | 0.9794587 | 0.9698031 | 0.9718749 | 0.9814213 | 0.9770946 | 0.9750759 |\n",
       "| 0.1463658 | 0.8830032 | 0.8984115 | 0.9163239 | 0.9398224 | 0.9183718 | 0.9170751 | 0.9436625 | 0.9590460 | 0.9569129 | ⋯         | 0.9729265 | 0.9652364 | 0.9753745 | 0.9737934 | 0.9766670 | 0.9755036 | 0.9660118 | 0.9752656 | 0.9768856 | 0.9768842 |\n",
       "\n"
      ],
      "text/plain": [
       "     10        20        30        40        50        60        70       \n",
       "[1,] 0.8294229 0.8266813 0.7141293 0.9102941 0.9288524 0.9219901 0.9477465\n",
       "[2,] 0.9203281 0.9379749 0.8959488 0.9260508 0.9047020 0.8977811 0.9306731\n",
       "[3,] 0.7184823 0.8490754 0.9036290 0.8324167 0.9079199 0.9306634 0.9270532\n",
       "[4,] 0.7219295 0.8128061 0.8645790 0.9046321 0.9341630 0.9124712 0.9097445\n",
       "[5,] 0.5743104 0.8708749 0.9153204 0.8808929 0.8936611 0.9067854 0.9218086\n",
       "[6,] 0.1463658 0.8830032 0.8984115 0.9163239 0.9398224 0.9183718 0.9170751\n",
       "     80        90        100       ⋯ 210       220       230       240      \n",
       "[1,] 0.9376283 0.9566349 0.9399506 ⋯ 0.9726165 0.9722167 0.9733375 0.9797691\n",
       "[2,] 0.9198966 0.9293693 0.9422099 ⋯ 0.9708515 0.9687092 0.9682076 0.9672684\n",
       "[3,] 0.9414231 0.9102525 0.9480799 ⋯ 0.9649458 0.9763129 0.9705573 0.9728587\n",
       "[4,] 0.9345172 0.9515922 0.9546968 ⋯ 0.9680261 0.9776794 0.9700759 0.9612342\n",
       "[5,] 0.9285796 0.9587990 0.9503819 ⋯ 0.9714971 0.9696088 0.9750044 0.9662507\n",
       "[6,] 0.9436625 0.9590460 0.9569129 ⋯ 0.9729265 0.9652364 0.9753745 0.9737934\n",
       "     250       260       270       280       290       300      \n",
       "[1,] 0.9730149 0.9678184 0.9677313 0.9714346 0.9749823 0.9786853\n",
       "[2,] 0.9772206 0.9746415 0.9761254 0.9771242 0.9794952 0.9774999\n",
       "[3,] 0.9796235 0.9797518 0.9732961 0.9769201 0.9651984 0.9809152\n",
       "[4,] 0.9728078 0.9609369 0.9782025 0.9780794 0.9756580 0.9760146\n",
       "[5,] 0.9794587 0.9698031 0.9718749 0.9814213 0.9770946 0.9750759\n",
       "[6,] 0.9766670 0.9755036 0.9660118 0.9752656 0.9768856 0.9768842"
      ]
     },
     "metadata": {},
     "output_type": "display_data"
    },
    {
     "data": {
      "image/png": "[encoded data removed]",
      "text/plain": [
       "plot without title"
      ]
     },
     "metadata": {},
     "output_type": "display_data"
    }
   ],
   "source": [
    "dat=do.call(rbind,tmp)\n",
    "rownames(dat)=seq(10,300,by=10)\n",
    "head(dat)\n",
    "apply(dat, 1, mean )\n",
    "dat=t(dat)\n",
    "head(dat)\n",
    "plot(apply(dat, 2, mean ))\n"
   ]
  },
  {
   "cell_type": "code",
   "execution_count": 32,
   "metadata": {},
   "outputs": [
    {
     "data": {
      "text/html": [
       "<table>\n",
       "<thead><tr><th scope=col>Var1</th><th scope=col>Var2</th><th scope=col>value</th></tr></thead>\n",
       "<tbody>\n",
       "\t<tr><td>1        </td><td>10       </td><td>0.8294229</td></tr>\n",
       "\t<tr><td>2        </td><td>10       </td><td>0.9203281</td></tr>\n",
       "\t<tr><td>3        </td><td>10       </td><td>0.7184823</td></tr>\n",
       "\t<tr><td>4        </td><td>10       </td><td>0.7219295</td></tr>\n",
       "\t<tr><td>5        </td><td>10       </td><td>0.5743104</td></tr>\n",
       "\t<tr><td>6        </td><td>10       </td><td>0.1463658</td></tr>\n",
       "</tbody>\n",
       "</table>\n"
      ],
      "text/latex": [
       "\\begin{tabular}{r|lll}\n",
       " Var1 & Var2 & value\\\\\n",
       "\\hline\n",
       "\t 1         & 10        & 0.8294229\\\\\n",
       "\t 2         & 10        & 0.9203281\\\\\n",
       "\t 3         & 10        & 0.7184823\\\\\n",
       "\t 4         & 10        & 0.7219295\\\\\n",
       "\t 5         & 10        & 0.5743104\\\\\n",
       "\t 6         & 10        & 0.1463658\\\\\n",
       "\\end{tabular}\n"
      ],
      "text/markdown": [
       "\n",
       "| Var1 | Var2 | value |\n",
       "|---|---|---|\n",
       "| 1         | 10        | 0.8294229 |\n",
       "| 2         | 10        | 0.9203281 |\n",
       "| 3         | 10        | 0.7184823 |\n",
       "| 4         | 10        | 0.7219295 |\n",
       "| 5         | 10        | 0.5743104 |\n",
       "| 6         | 10        | 0.1463658 |\n",
       "\n"
      ],
      "text/plain": [
       "  Var1 Var2 value    \n",
       "1 1    10   0.8294229\n",
       "2 2    10   0.9203281\n",
       "3 3    10   0.7184823\n",
       "4 4    10   0.7219295\n",
       "5 5    10   0.5743104\n",
       "6 6    10   0.1463658"
      ]
     },
     "metadata": {},
     "output_type": "display_data"
    },
    {
     "data": {
      "text/html": [
       "<table>\n",
       "<thead><tr><th scope=col>number_of_genes</th><th scope=col>cor</th></tr></thead>\n",
       "<tbody>\n",
       "\t<tr><td>10       </td><td>0.8294229</td></tr>\n",
       "\t<tr><td>10       </td><td>0.9203281</td></tr>\n",
       "\t<tr><td>10       </td><td>0.7184823</td></tr>\n",
       "\t<tr><td>10       </td><td>0.7219295</td></tr>\n",
       "\t<tr><td>10       </td><td>0.5743104</td></tr>\n",
       "\t<tr><td>10       </td><td>0.1463658</td></tr>\n",
       "</tbody>\n",
       "</table>\n"
      ],
      "text/latex": [
       "\\begin{tabular}{r|ll}\n",
       " number\\_of\\_genes & cor\\\\\n",
       "\\hline\n",
       "\t 10        & 0.8294229\\\\\n",
       "\t 10        & 0.9203281\\\\\n",
       "\t 10        & 0.7184823\\\\\n",
       "\t 10        & 0.7219295\\\\\n",
       "\t 10        & 0.5743104\\\\\n",
       "\t 10        & 0.1463658\\\\\n",
       "\\end{tabular}\n"
      ],
      "text/markdown": [
       "\n",
       "| number_of_genes | cor |\n",
       "|---|---|\n",
       "| 10        | 0.8294229 |\n",
       "| 10        | 0.9203281 |\n",
       "| 10        | 0.7184823 |\n",
       "| 10        | 0.7219295 |\n",
       "| 10        | 0.5743104 |\n",
       "| 10        | 0.1463658 |\n",
       "\n"
      ],
      "text/plain": [
       "  number_of_genes cor      \n",
       "1 10              0.8294229\n",
       "2 10              0.9203281\n",
       "3 10              0.7184823\n",
       "4 10              0.7219295\n",
       "5 10              0.5743104\n",
       "6 10              0.1463658"
      ]
     },
     "metadata": {},
     "output_type": "display_data"
    },
    {
     "name": "stderr",
     "output_type": "stream",
     "text": [
      "Warning message:\n",
      "“Removed 2 rows containing non-finite values (stat_ydensity).”Warning message:\n",
      "“Removed 2 rows containing non-finite values (stat_boxplot).”"
     ]
    },
    {
     "data": {
      "image/png": "[encoded data removed]",
      "text/plain": [
       "plot without title"
      ]
     },
     "metadata": {},
     "output_type": "display_data"
    }
   ],
   "source": [
    "library(reshape2)\n",
    "df=melt(dat)[,2:3]\n",
    "head(melt(dat))\n",
    "colnames(df)=c('number_of_genes','cor')\n",
    "head(df)\n",
    "library(ggpubr)\n",
    "ggviolin(df,x = 'number_of_genes',  y = 'cor',\n",
    "         add = \"boxplot\")"
   ]
  },
  {
   "cell_type": "code",
   "execution_count": null,
   "metadata": {},
   "outputs": [],
   "source": []
  },
  {
   "cell_type": "code",
   "execution_count": null,
   "metadata": {},
   "outputs": [],
   "source": []
  }
 ],
 "metadata": {
  "kernelspec": {
   "display_name": "R",
   "language": "R",
   "name": "ir"
  },
  "language_info": {
   "codemirror_mode": "r",
   "file_extension": ".r",
   "mimetype": "text/x-r-source",
   "name": "R",
   "pygments_lexer": "r",
   "version": "3.5.1"
  }
 },
 "nbformat": 4,
 "nbformat_minor": 2
}
